{
 "cells": [
  {
   "cell_type": "markdown",
   "metadata": {},
   "source": [
    "# Workshop DL01: Deep Neural Networks*\n",
    "\n",
    "## Agenda:\n",
    "- Introduction to deep learning  \n",
    "- Apply DNN to MNIST dataset and IEEE fraud dataset\n",
    "\n",
    "For this workshop we are gonna talk about deep learning algorithms and train DNN models with 2 datasets. We will first start with an easier dataset as demonstration, namely the MNIST dataset. Then we will move on to the harder dataset, which is the IEEE fraud detection dataset, so we can also compare the performance of supervised learning and deep learning models.\n",
    "\n",
    "## Exercises:\n",
    "- Think about what features to include in your model and how they should be represented.  \n",
    "- Apply DNN to house price dataset from last workshop\n",
    "\n",
    "*We recommand running this notebook on colab, gcloud or other cloud instance to avoid over-heating you computer."
   ]
  },
  {
   "cell_type": "markdown",
   "metadata": {},
   "source": [
    "### Deep Learning Paradigm:\n",
    "There is no clear cut definition of deep learning as many people tend to have different definitions, but the most popular opinion is that deep-learning could be defined as neural network with more than 2 hidden layers and later evolved into including unsupervised neural architectures. \n",
    "<img src=\"paradigm.png\">\n",
    "\n",
    "### Deep Learning Application:\n",
    "| Neural Network | Application |\n",
    "| :------------: | :---------: | \n",
    "|Standard NN|Real Estate, Online Advertising|\n",
    "|Convolutional NN|Photo Tagging|\n",
    "|Recurrent NN|Speech Recognition, Machine Translation|\n",
    "|Unsupervised NN|Fraud Detection|"
   ]
  },
  {
   "cell_type": "markdown",
   "metadata": {},
   "source": [
    "### So what is a neural network?\n",
    "Recall that in the classification workshop we have introduced a GLM model called **Perceptron**. This is actually the very structural building block of neural network (NN).\n",
    "\n",
    "| Perceptron | Activation |\n",
    "|:----------:| :--------: |\n",
    "|<img src=\"perceptron.png\">|<img src=\"activation.png\">|\n",
    "\n",
    "Notations:\n",
    "- $g$: activation function (activation function is to capture the non-linearities in the dataset) \n",
    "- $X$: input matrix \n",
    "- $w_0$: bias \n",
    "- $W$: weight matrix\n"
   ]
  },
  {
   "cell_type": "markdown",
   "metadata": {},
   "source": [
    "A **NN** can then be viewed as a stack of multi-output perceptrons. For example, the hidden layer is a perceptron with 4 outputs and the output layer is a perceptron with 2 outputs: \n",
    "<img src=\"SNN.png\" width=\"500\">\n",
    "Note that the subscripts indicates the number of layer, e.g. $W^{(1)}$ is the weight matrix for the first layer. \n",
    "\n",
    "Vectorization representation: \n",
    "$$ Z = w_0^{(1)} + X^TW^{(1)}$$\n",
    "$$ Y = g(w_0^{(2)} + Z^TW^{(2)})$$\n",
    "There are many conventions of representing NN, but they mean the same thing."
   ]
  },
  {
   "cell_type": "markdown",
   "metadata": {},
   "source": [
    "A **deep neural network (DNN)** is an extension of a single-layer NN with more than 2 hidden layers. For example, some DNN can have upto hundreds of layers:\n",
    "<img src=\"DNN.png\" width=\"500\">\n",
    "\n",
    "Note that input and output layers are not counted as the number of layers of a NN. \n",
    "\n",
    "Suppose we have a $l$-layer NN then the vectorization representation is: \n",
    "$$ Z^{(k)} = w_0^{(k)} + g(Z^{(k-1)})^TW^{(k)}, where \\space  k = 1,2,..l-1$$\n",
    "$$ Y = g(w_0^{(l)} + Z^{(l-1)T}W^{(l)})$$\n",
    "\n",
    "Getting the matrix dimemsion correct can be quite tricky."
   ]
  },
  {
   "cell_type": "markdown",
   "metadata": {},
   "source": [
    "### Then how do we train a NN?\n",
    "First we need to define a **cost function** then update the parameters ($W,w_0$) by minimising the cost. This is known as **back propagation**, whereas computing output is known as **forward propagation**. \n",
    "\n",
    "Considering a sample size of n, cost function is a function of predicted output ($\\hat{Y^{[i]}}=f(X^{[i]},W)$) and actual output ($Y^{[i]}$): \n",
    "$$J(\\hat{Y^{[i]}},W) = \\frac{1}{n} \\sum_{i=1}^n{L(\\hat{Y^{[i]}},Y^{[i]})}$$, where $L$ could be:\n",
    "- binary cross entropy loss: $Y^{[i]}\\log{(\\hat{Y^{[i]}})}+(1-Y^{[i]})\\log{(1-\\hat{Y^{[i]}})}$\n",
    "- mean square loss: $(Y^{[i]}-\\hat{Y^{[i]}})^2$\n",
    "\n",
    "After we define a cost function, we need a way to update the parameters that minimise the cost. There are many ways but let's start with the most basic one, namely **gradient descent**. As the name suggests, we want to find the parameters by decreasing gradient gradually because a function decreases the fastest if one goes from a random point in the opposite direction of the gradient at that point. So we update the parameters like this:\n",
    "$$new W = old W - \\alpha \\frac{\\partial J(old W)}{\\partial old W}$$\n",
    "where $\\alpha$ is the learning rate.\n",
    "\n",
    "Graph Representation:\n",
    "\n",
    "|Step 1|Step 2|\n",
    "|:----:|:----:|\n",
    "|<img src=\"step1.png\">|<img src=\"step2.png\">|\n",
    "\n",
    "|Step 3|Step 4|\n",
    "|:----:|:----:|\n",
    "|<img src=\"step3.png\">|<img src=\"step4.png\">|\n",
    "\n",
    "\n",
    "Notice that $J$ is not a direct funtion of $W$, so differentiating it with respect to $W$ is not straight forward. So we need to use Chain Rule: \n",
    "$$\\frac{\\partial J(\\hat{Y^{[i]}},W)}{\\partial W} = \\frac{\\partial J(\\hat{Y^{[i]}},W)}{\\partial \\hat{Y^{[i]}}}\\frac{\\partial \\hat{Y^{[i]}}}{\\partial Z^{[i]}}\\frac{\\partial Z^{[i]}}{\\partial W}$$\n",
    "\n",
    "\n",
    "Imgages Source: ©MIT 6.S191: Introduction to Deep Learning [introtodeeplearning.com](http://introtodeeplearning.com/)"
   ]
  },
  {
   "cell_type": "markdown",
   "metadata": {},
   "source": [
    "### Alternative ways of training NNs:\n",
    "We have only covered one way of training NN, which is gradient descent. In practise, there are many other concerns that require better training methods. For example, **the choice of learning rate $\\alpha$** have great impact on the whether we can find the true minimum. Too small the $\\alpha$ converges slowly and can get stuck in local minima, whereas too big the $\\alpha$ will overshoot and might not converge. We can try different values of $\\alpha$ which could take a long time, or we can use **adaptive learning rate** (Momentum, RMSProp, Adam, Afagrad, Adadelta, learning rate decay etc.). \n",
    "\n",
    "Other than choosing learning rate, there are many popular options to improve training or fitting. Here we provide a list for you to consider:\n",
    "- Train a small size of data each time: Minibatch Training, Stochastic Gradient Descent\n",
    "- Normalisation of input, Batch Normalisation\n",
    "- Regularization: add $l_1, l_2$ in cost funtion, dropout, early stopping, data augmentation  \n",
    "- [Parallelize computation](https://www.tensorflow.org/guide/keras#multiple_gpus), use of GPU/TPU \n",
    "\n",
    "Now enough with the jiber jaber and let's train a DNN!\n",
    "\n",
    "We will be using Keras and Tensorflow for all our deep learning workshops. Some of you may notice that there's a new version of tensorflow that supoorts more fancy functions, but we're using the old version as it's more stable. "
   ]
  },
  {
   "cell_type": "code",
   "execution_count": 1,
   "metadata": {},
   "outputs": [
    {
     "name": "stdout",
     "output_type": "stream",
     "text": [
      "1.14.0\n",
      "2.2.4-tf\n"
     ]
    }
   ],
   "source": [
    "from __future__ import absolute_import, division, print_function, unicode_literals\n",
    "import numpy as np\n",
    "import os\n",
    "import matplotlib.pyplot as plt\n",
    "import seaborn as sns \n",
    "import pandas as pd \n",
    "import tensorflow as tf \n",
    "from tensorflow import keras\n",
    "\n",
    "print(tf.__version__)\n",
    "print(tf.keras.__version__)"
   ]
  },
  {
   "cell_type": "markdown",
   "metadata": {},
   "source": [
    "### Example 1: MNIST Data with Feed Forward Neural Networks "
   ]
  },
  {
   "cell_type": "markdown",
   "metadata": {},
   "source": [
    "Our task would be to label each image, as to which number it belong to exactly. \n",
    "\n",
    "For any image classification task, first, we have to understand how are image stored on devices. In this example, all images are 28$*$28 pixels, hence the input layer dimension would be 784 (28$*$28). \n",
    "\n",
    "For demonstration, we use a feedforward neural network with 2 hidden layers here. Of course, there are much more complicated neural architectures such as CNN's etc. "
   ]
  },
  {
   "cell_type": "markdown",
   "metadata": {},
   "source": [
    "<img src=\"MnistExamples.png\">"
   ]
  },
  {
   "cell_type": "markdown",
   "metadata": {},
   "source": [
    "#### Step 1: Import the data and Visualization"
   ]
  },
  {
   "cell_type": "code",
   "execution_count": 6,
   "metadata": {
    "scrolled": false
   },
   "outputs": [
    {
     "name": "stdout",
     "output_type": "stream",
     "text": [
      "Training input data shape: (60000, 28, 28)\n",
      "Training output data shape: (60000,)\n",
      "Testing input data shape: (10000, 28, 28)\n",
      "Testing output data shape: (10000,)\n"
     ]
    },
    {
     "data": {
      "image/png": "[encoded data removed]",
      "text/plain": [
       "<Figure size 432x288 with 9 Axes>"
      ]
     },
     "metadata": {
      "needs_background": "light"
     },
     "output_type": "display_data"
    },
    {
     "data": {
      "text/plain": [
       "<matplotlib.axes._subplots.AxesSubplot at 0x1a41882710>"
      ]
     },
     "execution_count": 6,
     "metadata": {},
     "output_type": "execute_result"
    },
    {
     "data": {
      "image/png": "[encoded data removed]",
      "text/plain": [
       "<Figure size 432x288 with 1 Axes>"
      ]
     },
     "metadata": {
      "needs_background": "light"
     },
     "output_type": "display_data"
    }
   ],
   "source": [
    "from keras.datasets import mnist\n",
    "(x_train, y_train), (x_test, y_test) = mnist.load_data()\n",
    "print(\"Training input data shape: {}\".format(x_train.shape))\n",
    "print(\"Training output data shape: {}\".format(y_train.shape))\n",
    "#This implies there exist 60,000 images with 28x28 pixels \n",
    "print(\"Testing input data shape: {}\".format(x_test.shape))\n",
    "print(\"Testing output data shape: {}\".format(y_test.shape))\n",
    "#This implies there exist 10,000 images with 28x28 pixels\n",
    "\n",
    "for i in range(9):\n",
    "    pyplot.subplot(330 + 1 + i)\n",
    "    pyplot.imshow(x_train[i], cmap=pyplot.get_cmap('gray'))\n",
    "pyplot.show()\n",
    "\n",
    "sns.countplot(y_train)"
   ]
  },
  {
   "cell_type": "markdown",
   "metadata": {},
   "source": [
    "#### Step 2: Data Preparation "
   ]
  },
  {
   "cell_type": "markdown",
   "metadata": {},
   "source": [
    "So we have 60,000 training images and 10,000 testing images with $28*28$ pixels, which we need to flatten into a single input like this:\n",
    "<img src=\"flatten.png\">\n"
   ]
  },
  {
   "cell_type": "code",
   "execution_count": 3,
   "metadata": {},
   "outputs": [
    {
     "name": "stdout",
     "output_type": "stream",
     "text": [
      "Training input data shape after reshaping: (60000, 784)\n",
      "Testing input data shape after reshaping: (10000, 784)\n",
      "Training output data after reshaping: (60000, 10)\n",
      "Testing output data after reshaping: (10000, 10)\n"
     ]
    }
   ],
   "source": [
    "from keras.utils import plot_model, to_categorical \n",
    "input_vector_dimension = 28*28\n",
    "num_classes = 10\n",
    "\n",
    "# flattening input\n",
    "x_train = x_train.reshape(x_train.shape[0], input_vector_dimension).astype('float32') / 255\n",
    "x_test = x_test.reshape(x_test.shape[0], input_vector_dimension).astype('float32') / 255\n",
    "# Think: why do we divide by 255? \n",
    "\n",
    "# changing target output into categorical format, e.g. (0,0,1,0, ...,0) for digit 2\n",
    "y_train = to_categorical(y_train, num_classes) \n",
    "y_test = to_categorical(y_test, num_classes)\n",
    "\n",
    "print(\"Training input data shape after reshaping: {}\".format(x_train.shape))\n",
    "print(\"Testing input data shape after reshaping: {}\".format(x_test.shape))\n",
    "print(\"Training output data after reshaping: {}\".format(y_train.shape))\n",
    "print(\"Testing output data after reshaping: {}\".format(y_test.shape))"
   ]
  },
  {
   "cell_type": "markdown",
   "metadata": {},
   "source": [
    "#### Step 3: Neural Architecture Design\n",
    "This is where we design each layer, cost funstion as well as algorithms used to update parameters (i.e. optimizers). \n",
    "\n",
    "##### Layers configuration: \n",
    "\n",
    "i.e. things we can put in `tf.keras.layers.Dense()` or `tf.keras.layers.Input()`\n",
    "- **activation**: by calling the name of activation functions, e.g `activation='relu'`\n",
    "- **initialization**: by calling initialization methods, e.g `bias_initializer=tf.keras.initializers.constant(2.0)`, `kernel_initializer='orthogonal'`, \n",
    "- **regularization**: by calling the regularization methods, e.g. `kernel_regularizer=tf.keras.regularizers.l1(0.01)`, `bias_regularizer=tf.keras.regularizers.l2(0.01)`, `activity_regularizer=tf.keras.regularizers.l2(0.01)`\n",
    "- note: kernel = $Z_1, ...Z_n$, bias = $w_0$, activity = $g(Z_1), ...g(Z_n)$\n",
    "- [explore more](https://www.tensorflow.org/api_docs/python/tf/keras/layers)\n",
    "\n",
    "##### Model configuration:\n",
    "\n",
    "i.e. things we can put in `tf.keras.Model.compile()`\n",
    "- **optimizer**: `tf.train.AdamOptimizer`, `tf.train.RMSPropOptimizer`, or `tf.train.GradientDescentOptimizer`\n",
    "- **loss**: `mse`, `categorical_crossentropy`, and `binary_crossentropy`\n",
    "- **metrics**: `['mae']` for regression, `['accuracy']` for classification\n",
    "- [and so on](https://www.tensorflow.org/api_docs/python/tf/keras/Model#compile)\n",
    "\n",
    "There are 2 methods of creating the model, **sequential** API and **functional** API. For the sake of completeness, we show both of them here, but in practise functional API is preferrable since it supports more complex models such as:\n",
    "- Multi-input models,\n",
    "- Multi-output models,\n",
    "- Models with shared layers (the same layer called several times),\n",
    "- Models with non-sequential data flows (e.g. residual connections),\n",
    "- and so on depending on your creativity.\n",
    "[Here](https://www.tensorflow.org/beta/guide/keras/functional) are examples on how to use functional API for CNN, RNN."
   ]
  },
  {
   "cell_type": "code",
   "execution_count": 4,
   "metadata": {},
   "outputs": [
    {
     "name": "stdout",
     "output_type": "stream",
     "text": [
      "WARNING:tensorflow:From /home/leung0222/anaconda3/lib/python3.5/site-packages/tensorflow/python/ops/resource_variable_ops.py:435: colocate_with (from tensorflow.python.framework.ops) is deprecated and will be removed in a future version.\n",
      "Instructions for updating:\n",
      "Colocations handled automatically by placer.\n"
     ]
    }
   ],
   "source": [
    "# method 1: sequential model\n",
    "from tensorflow.keras import layers\n",
    "from keras import regularizers\n",
    "from keras.models import Model\n",
    "\n",
    "# initialize a model then add layers sequentially\n",
    "model1 = tf.keras.Sequential()\n",
    "# Adds a densely-connected layer with 64 units to the model:\n",
    "model1.add(layers.Dense(128, activation='relu'))\n",
    "# Add another:\n",
    "model1.add(layers.Dense(64, activation='relu'))\n",
    "# Add a softmax layer with 10 output units:\n",
    "model1.add(layers.Dense(10, activation='softmax'))\n",
    "\n",
    "# set up training\n",
    "model1.compile(optimizer=tf.train.RMSPropOptimizer(0.01),\n",
    "              loss='categorical_crossentropy',\n",
    "              metrics=['accuracy'])"
   ]
  },
  {
   "cell_type": "code",
   "execution_count": 5,
   "metadata": {},
   "outputs": [
    {
     "name": "stdout",
     "output_type": "stream",
     "text": [
      "_________________________________________________________________\n",
      "Layer (type)                 Output Shape              Param #   \n",
      "=================================================================\n",
      "input_1 (InputLayer)         (None, 784)               0         \n",
      "_________________________________________________________________\n",
      "dense_1 (Dense)              (None, 128)               100480    \n",
      "_________________________________________________________________\n",
      "dense_2 (Dense)              (None, 64)                8256      \n",
      "_________________________________________________________________\n",
      "dense_3 (Dense)              (None, 10)                650       \n",
      "=================================================================\n",
      "Total params: 109,386\n",
      "Trainable params: 109,386\n",
      "Non-trainable params: 0\n",
      "_________________________________________________________________\n"
     ]
    }
   ],
   "source": [
    "# method 2: functional model\n",
    "from keras.layers import Input, Dense\n",
    "\n",
    "# define each layer then combine \n",
    "input_layer = Input(shape=(input_vector_dimension,))\n",
    "hidden_layer_1 = Dense(128, activation='relu')(input_layer)\n",
    "hidden_layer_2 = Dense(64, activation='relu')(hidden_layer_1)\n",
    "output_layer = Dense(10, activation='softmax')(hidden_layer_2)\n",
    "model = Model(inputs=input_layer, outputs=output_layer)\n",
    "\n",
    "model.summary()\n",
    "# set up training \n",
    "model.compile(optimizer=tf.train.RMSPropOptimizer(0.01),\n",
    "              loss='categorical_crossentropy',\n",
    "              metrics=['accuracy'])"
   ]
  },
  {
   "cell_type": "code",
   "execution_count": 6,
   "metadata": {},
   "outputs": [
    {
     "name": "stdout",
     "output_type": "stream",
     "text": [
      "_________________________________________________________________\n",
      "Layer (type)                 Output Shape              Param #   \n",
      "=================================================================\n",
      "input_2 (InputLayer)         (None, 784)               0         \n",
      "_________________________________________________________________\n",
      "dense_4 (Dense)              (None, 128)               100480    \n",
      "_________________________________________________________________\n",
      "dense_5 (Dense)              (None, 64)                8256      \n",
      "_________________________________________________________________\n",
      "dense_6 (Dense)              (None, 10)                650       \n",
      "=================================================================\n",
      "Total params: 109,386\n",
      "Trainable params: 109,386\n",
      "Non-trainable params: 0\n",
      "_________________________________________________________________\n"
     ]
    }
   ],
   "source": [
    "# using l1 in functional API \n",
    "from keras.layers import Input, Dense\n",
    "\n",
    "# define each layer then combine \n",
    "input_layer = Input(shape=(input_vector_dimension,))\n",
    "hidden_layer_1 = Dense(128, activation='relu',activity_regularizer=regularizers.l1(10e-5))(input_layer)\n",
    "hidden_layer_2 = Dense(64, activation='relu')(hidden_layer_1)\n",
    "output_layer = Dense(10, activation='softmax')(hidden_layer_2)\n",
    "model_l1 = Model(inputs=input_layer, outputs=output_layer)\n",
    "\n",
    "model_l1.summary()\n",
    "# set up training \n",
    "model_l1.compile(optimizer=tf.train.RMSPropOptimizer(0.01),\n",
    "              loss='categorical_crossentropy',\n",
    "              metrics=['accuracy'])"
   ]
  },
  {
   "cell_type": "code",
   "execution_count": 7,
   "metadata": {},
   "outputs": [
    {
     "name": "stdout",
     "output_type": "stream",
     "text": [
      "WARNING:tensorflow:From /home/leung0222/anaconda3/lib/python3.5/site-packages/keras/backend/tensorflow_backend.py:3445: calling dropout (from tensorflow.python.ops.nn_ops) with keep_prob is deprecated and will be removed in a future version.\n",
      "Instructions for updating:\n",
      "Please use `rate` instead of `keep_prob`. Rate should be set to `rate = 1 - keep_prob`.\n",
      "_________________________________________________________________\n",
      "Layer (type)                 Output Shape              Param #   \n",
      "=================================================================\n",
      "input_3 (InputLayer)         (None, 784)               0         \n",
      "_________________________________________________________________\n",
      "dense_7 (Dense)              (None, 128)               100480    \n",
      "_________________________________________________________________\n",
      "dropout_1 (Dropout)          (None, 128)               0         \n",
      "_________________________________________________________________\n",
      "dense_8 (Dense)              (None, 64)                8256      \n",
      "_________________________________________________________________\n",
      "dense_9 (Dense)              (None, 10)                650       \n",
      "=================================================================\n",
      "Total params: 109,386\n",
      "Trainable params: 109,386\n",
      "Non-trainable params: 0\n",
      "_________________________________________________________________\n"
     ]
    }
   ],
   "source": [
    "# using drop out in funtional API\n",
    "from keras.layers import Dropout\n",
    "\n",
    "input_layer = Input(shape=(input_vector_dimension,))\n",
    "hidden_layer_1 = Dense(128, activation='relu')(input_layer)\n",
    "hidden_layer_1 = Dropout(0.4)(hidden_layer_1)\n",
    "hidden_layer_2 = Dense(64, activation='relu')(hidden_layer_1)\n",
    "output_layer = Dense(10, activation='softmax')(hidden_layer_2)\n",
    "model_dr = Model(inputs=input_layer, outputs=output_layer)\n",
    "\n",
    "model_dr.summary()\n",
    "# set up training \n",
    "model_dr.compile(optimizer=tf.train.RMSPropOptimizer(0.01),\n",
    "              loss='categorical_crossentropy',\n",
    "              metrics=['accuracy'])"
   ]
  },
  {
   "cell_type": "markdown",
   "metadata": {},
   "source": [
    "#### Step 4: Train the Model \n",
    "This is where we design on how to train our model, such as mini-batch training. \n",
    "\n",
    "Training configuration:\n",
    "i.e. things we can put in `model.fit()`\n",
    "- **epochs**: number of loops over the entire data\n",
    "- **batch_size**: data size we use for each iteration to update parameters\n",
    "- **validation_split**: percentage of data we use to monitor the model performance by some metric after each epoch\n",
    "- [and so on](https://www.tensorflow.org/api_docs/python/tf/keras/Model#fit)"
   ]
  },
  {
   "cell_type": "code",
   "execution_count": 8,
   "metadata": {},
   "outputs": [
    {
     "name": "stdout",
     "output_type": "stream",
     "text": [
      "WARNING:tensorflow:From /home/leung0222/anaconda3/lib/python3.5/site-packages/tensorflow/python/ops/math_ops.py:3066: to_int32 (from tensorflow.python.ops.math_ops) is deprecated and will be removed in a future version.\n",
      "Instructions for updating:\n",
      "Use tf.cast instead.\n",
      "Train on 30000 samples, validate on 30000 samples\n",
      "Epoch 1/20\n",
      " - 2s - loss: 0.5987 - acc: 0.8178 - val_loss: 0.1949 - val_acc: 0.9449\n",
      "Epoch 2/20\n",
      " - 2s - loss: 0.2035 - acc: 0.9458 - val_loss: 0.1859 - val_acc: 0.9521\n",
      "Epoch 3/20\n",
      " - 2s - loss: 0.1896 - acc: 0.9554 - val_loss: 0.2760 - val_acc: 0.9454\n",
      "Epoch 4/20\n",
      " - 2s - loss: 0.1762 - acc: 0.9600 - val_loss: 0.2266 - val_acc: 0.9555\n",
      "Epoch 5/20\n",
      " - 2s - loss: 0.1677 - acc: 0.9653 - val_loss: 0.2765 - val_acc: 0.9513\n",
      "Epoch 6/20\n",
      " - 2s - loss: 0.1698 - acc: 0.9669 - val_loss: 0.3675 - val_acc: 0.9469\n",
      "Epoch 7/20\n",
      " - 2s - loss: 0.1677 - acc: 0.9689 - val_loss: 0.3373 - val_acc: 0.9479\n",
      "Epoch 8/20\n",
      " - 2s - loss: 0.1617 - acc: 0.9716 - val_loss: 0.3149 - val_acc: 0.9578\n",
      "Epoch 9/20\n",
      " - 2s - loss: 0.1710 - acc: 0.9743 - val_loss: 0.3076 - val_acc: 0.9615\n",
      "Epoch 10/20\n",
      " - 2s - loss: 0.1675 - acc: 0.9740 - val_loss: 0.3109 - val_acc: 0.9602\n",
      "Epoch 11/20\n",
      " - 2s - loss: 0.1710 - acc: 0.9747 - val_loss: 0.3243 - val_acc: 0.9555\n",
      "Epoch 12/20\n",
      " - 2s - loss: 0.1671 - acc: 0.9745 - val_loss: 0.3526 - val_acc: 0.9565\n",
      "Epoch 13/20\n",
      " - 2s - loss: 0.1693 - acc: 0.9748 - val_loss: 0.3163 - val_acc: 0.9632\n",
      "Epoch 14/20\n",
      " - 2s - loss: 0.1668 - acc: 0.9774 - val_loss: 0.4012 - val_acc: 0.9571\n",
      "Epoch 15/20\n",
      " - 2s - loss: 0.1659 - acc: 0.9770 - val_loss: 0.4465 - val_acc: 0.9574\n",
      "Epoch 16/20\n",
      " - 2s - loss: 0.1646 - acc: 0.9784 - val_loss: 0.4259 - val_acc: 0.9566\n",
      "Epoch 17/20\n",
      " - 2s - loss: 0.1848 - acc: 0.9776 - val_loss: 0.3922 - val_acc: 0.9617\n",
      "Epoch 18/20\n",
      " - 2s - loss: 0.1810 - acc: 0.9789 - val_loss: 0.4479 - val_acc: 0.9587\n",
      "Epoch 19/20\n",
      " - 2s - loss: 0.1719 - acc: 0.9783 - val_loss: 0.3762 - val_acc: 0.9579\n",
      "Epoch 20/20\n",
      " - 2s - loss: 0.1774 - acc: 0.9810 - val_loss: 0.5391 - val_acc: 0.9544\n",
      "base model fitted\n",
      "Train on 30000 samples, validate on 30000 samples\n",
      "Epoch 1/20\n",
      " - 2s - loss: 0.6794 - acc: 0.8207 - val_loss: 0.2979 - val_acc: 0.9346\n",
      "Epoch 2/20\n",
      " - 2s - loss: 0.2811 - acc: 0.9424 - val_loss: 0.2912 - val_acc: 0.9390\n",
      "Epoch 3/20\n",
      " - 2s - loss: 0.2662 - acc: 0.9490 - val_loss: 0.3105 - val_acc: 0.9375\n",
      "Epoch 4/20\n",
      " - 2s - loss: 0.2661 - acc: 0.9490 - val_loss: 0.3307 - val_acc: 0.9387\n",
      "Epoch 5/20\n",
      " - 2s - loss: 0.2741 - acc: 0.9475 - val_loss: 0.3677 - val_acc: 0.9286\n",
      "Epoch 6/20\n",
      " - 2s - loss: 0.2768 - acc: 0.9471 - val_loss: 0.3774 - val_acc: 0.9316\n",
      "Epoch 7/20\n",
      " - 2s - loss: 0.2971 - acc: 0.9448 - val_loss: 0.4023 - val_acc: 0.9215\n",
      "Epoch 8/20\n",
      " - 2s - loss: 0.3136 - acc: 0.9369 - val_loss: 0.5248 - val_acc: 0.9072\n",
      "Epoch 9/20\n",
      " - 2s - loss: 0.3288 - acc: 0.9330 - val_loss: 0.4315 - val_acc: 0.9149\n",
      "Epoch 10/20\n",
      " - 2s - loss: 0.3196 - acc: 0.9320 - val_loss: 0.4498 - val_acc: 0.9121\n",
      "Epoch 11/20\n",
      " - 2s - loss: 0.3315 - acc: 0.9310 - val_loss: 0.4997 - val_acc: 0.9075\n",
      "Epoch 12/20\n",
      " - 2s - loss: 0.3503 - acc: 0.9271 - val_loss: 0.5104 - val_acc: 0.9106\n",
      "Epoch 13/20\n",
      " - 2s - loss: 0.3669 - acc: 0.9190 - val_loss: 0.5027 - val_acc: 0.8974\n",
      "Epoch 14/20\n",
      " - 2s - loss: 0.3813 - acc: 0.9169 - val_loss: 0.5220 - val_acc: 0.8926\n",
      "Epoch 15/20\n",
      " - 2s - loss: 0.4105 - acc: 0.9091 - val_loss: 0.5624 - val_acc: 0.8992\n",
      "Epoch 16/20\n",
      " - 2s - loss: 0.3994 - acc: 0.9147 - val_loss: 0.6043 - val_acc: 0.8910\n",
      "Epoch 17/20\n",
      " - 2s - loss: 0.4185 - acc: 0.9078 - val_loss: 0.5857 - val_acc: 0.8807\n",
      "Epoch 18/20\n",
      " - 2s - loss: 0.4185 - acc: 0.9085 - val_loss: 0.5891 - val_acc: 0.8954\n",
      "Epoch 19/20\n",
      " - 2s - loss: 0.4367 - acc: 0.9055 - val_loss: 0.6070 - val_acc: 0.8774\n",
      "Epoch 20/20\n",
      " - 2s - loss: 0.4394 - acc: 0.9019 - val_loss: 0.6263 - val_acc: 0.8729\n",
      "l1 model fitted\n",
      "Train on 30000 samples, validate on 30000 samples\n",
      "Epoch 1/20\n",
      " - 2s - loss: 0.7225 - acc: 0.7683 - val_loss: 0.3183 - val_acc: 0.9018\n",
      "Epoch 2/20\n",
      " - 2s - loss: 0.3492 - acc: 0.9061 - val_loss: 0.2536 - val_acc: 0.9334\n",
      "Epoch 3/20\n",
      " - 2s - loss: 0.3238 - acc: 0.9184 - val_loss: 0.2187 - val_acc: 0.9460\n",
      "Epoch 4/20\n",
      " - 2s - loss: 0.3150 - acc: 0.9262 - val_loss: 0.2030 - val_acc: 0.9476\n",
      "Epoch 5/20\n",
      " - 2s - loss: 0.3120 - acc: 0.9291 - val_loss: 0.1975 - val_acc: 0.9554\n",
      "Epoch 6/20\n",
      " - 2s - loss: 0.3068 - acc: 0.9324 - val_loss: 0.1967 - val_acc: 0.9548\n",
      "Epoch 7/20\n",
      " - 2s - loss: 0.2942 - acc: 0.9368 - val_loss: 0.2936 - val_acc: 0.9377\n",
      "Epoch 8/20\n",
      " - 2s - loss: 0.3162 - acc: 0.9379 - val_loss: 0.2288 - val_acc: 0.9517\n",
      "Epoch 9/20\n",
      " - 2s - loss: 0.3110 - acc: 0.9390 - val_loss: 0.2439 - val_acc: 0.9546\n",
      "Epoch 10/20\n",
      " - 2s - loss: 0.3055 - acc: 0.9409 - val_loss: 0.2200 - val_acc: 0.9568\n",
      "Epoch 11/20\n",
      " - 2s - loss: 0.2971 - acc: 0.9409 - val_loss: 0.2260 - val_acc: 0.9586\n",
      "Epoch 12/20\n",
      " - 2s - loss: 0.3110 - acc: 0.9425 - val_loss: 0.2202 - val_acc: 0.9580\n",
      "Epoch 13/20\n",
      " - 2s - loss: 0.3160 - acc: 0.9444 - val_loss: 0.2251 - val_acc: 0.9591\n",
      "Epoch 14/20\n",
      " - 2s - loss: 0.3147 - acc: 0.9443 - val_loss: 0.2271 - val_acc: 0.9576\n",
      "Epoch 15/20\n",
      " - 2s - loss: 0.3121 - acc: 0.9461 - val_loss: 0.2558 - val_acc: 0.9575\n",
      "Epoch 16/20\n",
      " - 2s - loss: 0.3381 - acc: 0.9435 - val_loss: 0.2538 - val_acc: 0.9584\n",
      "Epoch 17/20\n",
      " - 2s - loss: 0.3322 - acc: 0.9478 - val_loss: 0.2616 - val_acc: 0.9554\n",
      "Epoch 18/20\n",
      " - 2s - loss: 0.3239 - acc: 0.9474 - val_loss: 0.2745 - val_acc: 0.9593\n",
      "Epoch 19/20\n",
      " - 2s - loss: 0.3379 - acc: 0.9448 - val_loss: 0.2685 - val_acc: 0.9582\n",
      "Epoch 20/20\n",
      " - 2s - loss: 0.3470 - acc: 0.9445 - val_loss: 0.2559 - val_acc: 0.9550\n",
      "dropout model fitted\n"
     ]
    }
   ],
   "source": [
    "# training models\n",
    "args = dict(x = x_train, y = y_train,\n",
    "            batch_size=64,\n",
    "            epochs=20,\n",
    "            validation_split=0.5,\n",
    "            verbose=2) # set verbose equal to 1 here to view the progress bar\n",
    "\n",
    "history_base = model.fit(**args)\n",
    "print('base model fitted')\n",
    "\n",
    "history_l1 = model_l1.fit(**args)\n",
    "print('l1 model fitted')\n",
    "\n",
    "history_dr = model_dr.fit(**args)\n",
    "print('dropout model fitted')"
   ]
  },
  {
   "cell_type": "markdown",
   "metadata": {},
   "source": [
    "#### Step 5: Monitor Performance "
   ]
  },
  {
   "cell_type": "code",
   "execution_count": 10,
   "metadata": {},
   "outputs": [
    {
     "name": "stdout",
     "output_type": "stream",
     "text": [
      "10000/10000 [==============================] - 0s 35us/step\n",
      "Base Test loss: 0.5149250918225655\n",
      "Base Test accuracy: 0.9565\n",
      "10000/10000 [==============================] - 0s 36us/step\n",
      "l1 Test loss: 0.572751255118847\n",
      "l1 Test accuracy: 0.8778\n",
      "10000/10000 [==============================] - 0s 36us/step\n",
      "Dropout Test loss: 0.26011443918464067\n",
      "Dropout Test accuracy: 0.9565\n"
     ]
    }
   ],
   "source": [
    "test_scores = model.evaluate(x_test, y_test)\n",
    "print('Base Test loss:', test_scores[0])\n",
    "print('Base Test accuracy:', test_scores[1])\n",
    "\n",
    "test_scores = model_l1.evaluate(x_test, y_test)\n",
    "print('l1 Test loss:', test_scores[0])\n",
    "print('l1 Test accuracy:', test_scores[1])\n",
    "\n",
    "test_scores = model_dr.evaluate(x_test, y_test)\n",
    "print('Dropout Test loss:', test_scores[0])\n",
    "print('Dropout Test accuracy:', test_scores[1])"
   ]
  },
  {
   "cell_type": "code",
   "execution_count": 9,
   "metadata": {},
   "outputs": [
    {
     "data": {
      "image/png": "[encoded data removed]",
      "text/plain": [
       "<Figure size 1152x720 with 1 Axes>"
      ]
     },
     "metadata": {},
     "output_type": "display_data"
    }
   ],
   "source": [
    "def plot_history(histories, key='loss'): # set key to 'loss' or 'acc' to view metrics\n",
    "    plt.figure(figsize=(16,10))\n",
    "    for name, history in histories:\n",
    "        val = plt.plot(history.epoch, history.history['val_'+key],\n",
    "                       '--', label=name.title()+' Val')\n",
    "        plt.plot(history.epoch, history.history[key], color=val[0].get_color(),\n",
    "             label=name.title()+' Train')\n",
    "    \n",
    "    plt.xlabel('Epochs')\n",
    "    plt.ylabel(key.replace('_',' ').title())\n",
    "    plt.legend()\n",
    "    plt.xlim([0,max(history.epoch)])\n",
    "\n",
    "plot_history([('base',history_base),\n",
    "              ('l1', history_l1),\n",
    "              ('dropout',history_dr)])"
   ]
  },
  {
   "cell_type": "markdown",
   "metadata": {},
   "source": [
    "Lastly, save the trained model so you can load it later."
   ]
  },
  {
   "cell_type": "code",
   "execution_count": 11,
   "metadata": {},
   "outputs": [
    {
     "name": "stderr",
     "output_type": "stream",
     "text": [
      "/home/leung0222/anaconda3/lib/python3.5/site-packages/keras/engine/saving.py:118: UserWarning: TensorFlow optimizers do not make it possible to access optimizer attributes or optimizer state after instantiation. As a result, we cannot save the optimizer as part of the model save file.You will have to compile your model again after loading it. Prefer using a Keras optimizer instead (see keras.io/optimizers).\n",
      "  'TensorFlow optimizers do not '\n"
     ]
    },
    {
     "name": "stdout",
     "output_type": "stream",
     "text": [
      "WARNING:tensorflow:No training configuration found in save file: the model was *not* compiled. Compile it manually.\n"
     ]
    }
   ],
   "source": [
    "from keras.models import load_model, save_model\n",
    "model.save('my_model.h5')\n",
    "model = tf.keras.models.load_model('my_model.h5')"
   ]
  },
  {
   "cell_type": "markdown",
   "metadata": {},
   "source": [
    "### Example 2: IEEE Data "
   ]
  },
  {
   "cell_type": "code",
   "execution_count": 12,
   "metadata": {},
   "outputs": [],
   "source": [
    "# read csv file into a dataframe\n",
    "X_train = pd.read_csv('X_train.csv')\n",
    "Y_train = pd.read_csv('Y_train.csv')"
   ]
  },
  {
   "cell_type": "code",
   "execution_count": 13,
   "metadata": {},
   "outputs": [],
   "source": [
    "from sklearn.model_selection import train_test_split\n",
    "train_size = int(0.8*X_train.shape[0])\n",
    "test_size = X_train.shape[0]-train_size\n",
    "X_train, X_test, Y_train, Y_test = train_test_split(\n",
    "    X_train, Y_train, train_size=train_size, test_size=test_size, random_state=4)"
   ]
  },
  {
   "cell_type": "code",
   "execution_count": 14,
   "metadata": {},
   "outputs": [],
   "source": [
    "from sklearn import preprocessing\n",
    "# Normalize Training Data \n",
    "std_scale = preprocessing.StandardScaler().fit(X_train)\n",
    "X_train_norm = std_scale.transform(X_train)\n",
    "# Normalize Testing Data by using mean and SD of training set\n",
    "X_test_norm = std_scale.transform(X_test)"
   ]
  },
  {
   "cell_type": "code",
   "execution_count": 17,
   "metadata": {},
   "outputs": [
    {
     "data": {
      "text/html": [
       "<div>\n",
       "<style scoped>\n",
       "    .dataframe tbody tr th:only-of-type {\n",
       "        vertical-align: middle;\n",
       "    }\n",
       "\n",
       "    .dataframe tbody tr th {\n",
       "        vertical-align: top;\n",
       "    }\n",
       "\n",
       "    .dataframe thead th {\n",
       "        text-align: right;\n",
       "    }\n",
       "</style>\n",
       "<table border=\"1\" class=\"dataframe\">\n",
       "  <thead>\n",
       "    <tr style=\"text-align: right;\">\n",
       "      <th></th>\n",
       "      <th>0</th>\n",
       "      <th>1</th>\n",
       "      <th>2</th>\n",
       "      <th>3</th>\n",
       "      <th>4</th>\n",
       "      <th>5</th>\n",
       "      <th>6</th>\n",
       "      <th>7</th>\n",
       "      <th>8</th>\n",
       "      <th>9</th>\n",
       "      <th>...</th>\n",
       "      <th>421</th>\n",
       "      <th>422</th>\n",
       "      <th>423</th>\n",
       "      <th>424</th>\n",
       "      <th>425</th>\n",
       "      <th>426</th>\n",
       "      <th>427</th>\n",
       "      <th>428</th>\n",
       "      <th>429</th>\n",
       "      <th>430</th>\n",
       "    </tr>\n",
       "  </thead>\n",
       "  <tbody>\n",
       "    <tr>\n",
       "      <th>0</th>\n",
       "      <td>0.547507</td>\n",
       "      <td>0.643952</td>\n",
       "      <td>0.569898</td>\n",
       "      <td>1.866597</td>\n",
       "      <td>-0.423994</td>\n",
       "      <td>0.920831</td>\n",
       "      <td>1.004828</td>\n",
       "      <td>0.034225</td>\n",
       "      <td>-0.841841</td>\n",
       "      <td>-0.755327</td>\n",
       "      <td>...</td>\n",
       "      <td>-0.546744</td>\n",
       "      <td>-0.285865</td>\n",
       "      <td>-0.505615</td>\n",
       "      <td>-0.510319</td>\n",
       "      <td>-0.083003</td>\n",
       "      <td>-0.087361</td>\n",
       "      <td>-0.089169</td>\n",
       "      <td>-0.090304</td>\n",
       "      <td>-0.092353</td>\n",
       "      <td>-0.384832</td>\n",
       "    </tr>\n",
       "    <tr>\n",
       "      <th>1</th>\n",
       "      <td>-0.154450</td>\n",
       "      <td>-0.982659</td>\n",
       "      <td>-1.620863</td>\n",
       "      <td>-1.113573</td>\n",
       "      <td>4.607196</td>\n",
       "      <td>-1.086020</td>\n",
       "      <td>-1.055983</td>\n",
       "      <td>-1.029108</td>\n",
       "      <td>-0.841841</td>\n",
       "      <td>-0.755327</td>\n",
       "      <td>...</td>\n",
       "      <td>1.485039</td>\n",
       "      <td>-0.285865</td>\n",
       "      <td>3.333161</td>\n",
       "      <td>2.344598</td>\n",
       "      <td>-0.083003</td>\n",
       "      <td>-0.087361</td>\n",
       "      <td>-0.089169</td>\n",
       "      <td>-0.090304</td>\n",
       "      <td>-0.092353</td>\n",
       "      <td>2.277084</td>\n",
       "    </tr>\n",
       "    <tr>\n",
       "      <th>2</th>\n",
       "      <td>0.547507</td>\n",
       "      <td>0.643952</td>\n",
       "      <td>0.569898</td>\n",
       "      <td>1.866597</td>\n",
       "      <td>-0.423994</td>\n",
       "      <td>0.920831</td>\n",
       "      <td>1.004828</td>\n",
       "      <td>1.097559</td>\n",
       "      <td>0.190372</td>\n",
       "      <td>0.529474</td>\n",
       "      <td>...</td>\n",
       "      <td>-0.546744</td>\n",
       "      <td>-0.285865</td>\n",
       "      <td>-0.505615</td>\n",
       "      <td>-0.510319</td>\n",
       "      <td>-0.083003</td>\n",
       "      <td>-0.087361</td>\n",
       "      <td>-0.089169</td>\n",
       "      <td>-0.090304</td>\n",
       "      <td>-0.092353</td>\n",
       "      <td>-0.384832</td>\n",
       "    </tr>\n",
       "    <tr>\n",
       "      <th>3</th>\n",
       "      <td>0.547507</td>\n",
       "      <td>0.643952</td>\n",
       "      <td>0.569898</td>\n",
       "      <td>-1.113573</td>\n",
       "      <td>-0.423994</td>\n",
       "      <td>0.920831</td>\n",
       "      <td>1.004828</td>\n",
       "      <td>0.034225</td>\n",
       "      <td>-0.841841</td>\n",
       "      <td>-0.755327</td>\n",
       "      <td>...</td>\n",
       "      <td>-0.546744</td>\n",
       "      <td>-0.285865</td>\n",
       "      <td>-0.505615</td>\n",
       "      <td>-0.510319</td>\n",
       "      <td>-0.083003</td>\n",
       "      <td>-0.087361</td>\n",
       "      <td>-0.089169</td>\n",
       "      <td>-0.090304</td>\n",
       "      <td>-0.092353</td>\n",
       "      <td>-0.384832</td>\n",
       "    </tr>\n",
       "    <tr>\n",
       "      <th>4</th>\n",
       "      <td>0.547507</td>\n",
       "      <td>-0.982659</td>\n",
       "      <td>0.569898</td>\n",
       "      <td>-0.175371</td>\n",
       "      <td>-0.423994</td>\n",
       "      <td>-1.086020</td>\n",
       "      <td>-1.055983</td>\n",
       "      <td>-1.029108</td>\n",
       "      <td>0.190372</td>\n",
       "      <td>1.814276</td>\n",
       "      <td>...</td>\n",
       "      <td>-0.546744</td>\n",
       "      <td>-0.285865</td>\n",
       "      <td>-0.505615</td>\n",
       "      <td>-0.510319</td>\n",
       "      <td>-0.083003</td>\n",
       "      <td>-0.087361</td>\n",
       "      <td>-0.089169</td>\n",
       "      <td>-0.090304</td>\n",
       "      <td>-0.092353</td>\n",
       "      <td>-0.384832</td>\n",
       "    </tr>\n",
       "  </tbody>\n",
       "</table>\n",
       "<p>5 rows × 431 columns</p>\n",
       "</div>"
      ],
      "text/plain": [
       "        0         1         2         3         4         5         6    \\\n",
       "0  0.547507  0.643952  0.569898  1.866597 -0.423994  0.920831  1.004828   \n",
       "1 -0.154450 -0.982659 -1.620863 -1.113573  4.607196 -1.086020 -1.055983   \n",
       "2  0.547507  0.643952  0.569898  1.866597 -0.423994  0.920831  1.004828   \n",
       "3  0.547507  0.643952  0.569898 -1.113573 -0.423994  0.920831  1.004828   \n",
       "4  0.547507 -0.982659  0.569898 -0.175371 -0.423994 -1.086020 -1.055983   \n",
       "\n",
       "        7         8         9      ...          421       422       423  \\\n",
       "0  0.034225 -0.841841 -0.755327    ...    -0.546744 -0.285865 -0.505615   \n",
       "1 -1.029108 -0.841841 -0.755327    ...     1.485039 -0.285865  3.333161   \n",
       "2  1.097559  0.190372  0.529474    ...    -0.546744 -0.285865 -0.505615   \n",
       "3  0.034225 -0.841841 -0.755327    ...    -0.546744 -0.285865 -0.505615   \n",
       "4 -1.029108  0.190372  1.814276    ...    -0.546744 -0.285865 -0.505615   \n",
       "\n",
       "        424       425       426       427       428       429       430  \n",
       "0 -0.510319 -0.083003 -0.087361 -0.089169 -0.090304 -0.092353 -0.384832  \n",
       "1  2.344598 -0.083003 -0.087361 -0.089169 -0.090304 -0.092353  2.277084  \n",
       "2 -0.510319 -0.083003 -0.087361 -0.089169 -0.090304 -0.092353 -0.384832  \n",
       "3 -0.510319 -0.083003 -0.087361 -0.089169 -0.090304 -0.092353 -0.384832  \n",
       "4 -0.510319 -0.083003 -0.087361 -0.089169 -0.090304 -0.092353 -0.384832  \n",
       "\n",
       "[5 rows x 431 columns]"
      ]
     },
     "execution_count": 17,
     "metadata": {},
     "output_type": "execute_result"
    }
   ],
   "source": [
    "pd.DataFrame(X_train_norm).head()"
   ]
  },
  {
   "cell_type": "code",
   "execution_count": 21,
   "metadata": {},
   "outputs": [
    {
     "name": "stdout",
     "output_type": "stream",
     "text": [
      "_________________________________________________________________\n",
      "Layer (type)                 Output Shape              Param #   \n",
      "=================================================================\n",
      "input_5 (InputLayer)         (None, 431)               0         \n",
      "_________________________________________________________________\n",
      "dense_16 (Dense)             (None, 256)               110592    \n",
      "_________________________________________________________________\n",
      "dense_17 (Dense)             (None, 128)               32896     \n",
      "_________________________________________________________________\n",
      "dense_18 (Dense)             (None, 128)               16512     \n",
      "_________________________________________________________________\n",
      "dense_19 (Dense)             (None, 64)                8256      \n",
      "_________________________________________________________________\n",
      "dense_20 (Dense)             (None, 32)                2080      \n",
      "_________________________________________________________________\n",
      "dense_21 (Dense)             (None, 1)                 33        \n",
      "=================================================================\n",
      "Total params: 170,369\n",
      "Trainable params: 170,369\n",
      "Non-trainable params: 0\n",
      "_________________________________________________________________\n"
     ]
    }
   ],
   "source": [
    "# definin the model\n",
    "input_layer = Input(shape=(X_train.shape[1],))\n",
    "\n",
    "hidden_layer_1 = Dense(256, activation='relu',activity_regularizer=regularizers.l1(10e-3))(input_layer)\n",
    "hidden_layer_2 = Dense(128, activation='relu')(hidden_layer_1)\n",
    "hidden_layer_3 = Dense(128, activation='relu')(hidden_layer_2)\n",
    "hidden_layer_4 = Dense(64, activation='relu')(hidden_layer_3)\n",
    "hidden_layer_5 = Dense(32, activation='relu')(hidden_layer_4)\n",
    "\n",
    "output_layer = Dense(1, activation='sigmoid')(hidden_layer_5)\n",
    "\n",
    "nn_model = Model(inputs=input_layer, outputs=output_layer)\n",
    "nn_model.summary()\n",
    "\n",
    "nn_model.compile(loss='binary_crossentropy',\n",
    "              optimizer=tf.train.AdamOptimizer(10e-5),\n",
    "              metrics=['accuracy'])"
   ]
  },
  {
   "cell_type": "code",
   "execution_count": 22,
   "metadata": {},
   "outputs": [
    {
     "name": "stdout",
     "output_type": "stream",
     "text": [
      "Train on 425188 samples, validate on 47244 samples\n",
      "Epoch 1/20\n",
      " - 48s - loss: 0.7823 - acc: 0.9650 - val_loss: 0.2388 - val_acc: 0.9650\n",
      "Epoch 2/20\n",
      " - 47s - loss: 0.2708 - acc: 0.9650 - val_loss: 0.2500 - val_acc: 0.9650\n",
      "Epoch 3/20\n",
      " - 47s - loss: 0.2478 - acc: 0.9651 - val_loss: 0.1895 - val_acc: 0.9650\n",
      "Epoch 4/20\n",
      " - 46s - loss: 0.2378 - acc: 0.9651 - val_loss: 0.2515 - val_acc: 0.9650\n",
      "Epoch 5/20\n",
      " - 45s - loss: 0.2237 - acc: 0.9650 - val_loss: 0.1974 - val_acc: 0.9650\n",
      "Epoch 6/20\n",
      " - 46s - loss: 0.1940 - acc: 0.9651 - val_loss: 0.1868 - val_acc: 0.9650\n",
      "Epoch 7/20\n",
      " - 46s - loss: 0.1953 - acc: 0.9651 - val_loss: 0.1905 - val_acc: 0.9650\n",
      "Epoch 8/20\n",
      " - 45s - loss: 0.1806 - acc: 0.9651 - val_loss: 0.1770 - val_acc: 0.9650\n",
      "Epoch 9/20\n",
      " - 46s - loss: 0.1743 - acc: 0.9651 - val_loss: 0.1840 - val_acc: 0.9650\n",
      "Epoch 10/20\n",
      " - 46s - loss: 0.1787 - acc: 0.9651 - val_loss: 0.1756 - val_acc: 0.9650\n",
      "Epoch 11/20\n",
      " - 46s - loss: 0.1628 - acc: 0.9651 - val_loss: 0.1607 - val_acc: 0.9650\n",
      "Epoch 12/20\n",
      " - 46s - loss: 0.1604 - acc: 0.9651 - val_loss: 0.1633 - val_acc: 0.9650\n",
      "Epoch 13/20\n",
      " - 46s - loss: 0.1550 - acc: 0.9651 - val_loss: 0.1621 - val_acc: 0.9650\n",
      "Epoch 14/20\n",
      " - 47s - loss: 0.1555 - acc: 0.9651 - val_loss: 0.1579 - val_acc: 0.9650\n",
      "Epoch 15/20\n",
      " - 46s - loss: 0.1549 - acc: 0.9651 - val_loss: 0.1572 - val_acc: 0.9650\n",
      "Epoch 16/20\n",
      " - 47s - loss: 0.1520 - acc: 0.9651 - val_loss: 0.1566 - val_acc: 0.9650\n",
      "Epoch 17/20\n",
      " - 50s - loss: 0.1529 - acc: 0.9651 - val_loss: 0.1557 - val_acc: 0.9650\n",
      "Epoch 18/20\n",
      " - 47s - loss: 0.1525 - acc: 0.9651 - val_loss: 0.1561 - val_acc: 0.9650\n",
      "Epoch 19/20\n",
      " - 48s - loss: 0.1522 - acc: 0.9651 - val_loss: 0.1556 - val_acc: 0.9650\n",
      "Epoch 20/20\n",
      " - 48s - loss: 0.1516 - acc: 0.9651 - val_loss: 0.1556 - val_acc: 0.9650\n"
     ]
    }
   ],
   "source": [
    "# training model \n",
    "callback = tf.keras.callbacks.EarlyStopping(monitor='val_loss', patience=2)\n",
    "# This callback will stop the training when there is no improvement in\n",
    "# the validation loss for 2 consecutive epochs.\n",
    "history = nn_model.fit(X_train_norm, Y_train,\n",
    "                    batch_size=64,\n",
    "                    epochs=5,\n",
    "                    validation_split=0.1, \n",
    "                    verbose=2,\n",
    "                    callbacks=[callback])"
   ]
  },
  {
   "cell_type": "code",
   "execution_count": 23,
   "metadata": {},
   "outputs": [
    {
     "name": "stdout",
     "output_type": "stream",
     "text": [
      "Test loss: 0.15543428982432997\n",
      "Test accuracy: 0.964828800762665\n",
      "[[113954      0]\n",
      " [  4154      0]]\n",
      "             precision    recall  f1-score   support\n",
      "\n",
      "          0   0.964829  1.000000  0.982100    113954\n",
      "          1   0.000000  0.000000  0.000000      4154\n",
      "\n",
      "avg / total   0.930895  0.964829  0.947558    118108\n",
      "\n"
     ]
    },
    {
     "name": "stderr",
     "output_type": "stream",
     "text": [
      "/home/leung0222/anaconda3/lib/python3.5/site-packages/sklearn/metrics/classification.py:1135: UndefinedMetricWarning: Precision and F-score are ill-defined and being set to 0.0 in labels with no predicted samples.\n",
      "  'precision', 'predicted', average, warn_for)\n"
     ]
    }
   ],
   "source": [
    "# test error\n",
    "test_scores = nn_model.evaluate(X_test_norm, Y_test, verbose=0)\n",
    "print('Test loss:', test_scores[0])\n",
    "print('Test accuracy:', test_scores[1])\n",
    "\n",
    "\n",
    "from sklearn.metrics import classification_report, confusion_matrix\n",
    "Y_predict = nn_model.predict(X_test_norm)\n",
    "Y_predict.dtype\n",
    "Y_predict = np.argmax(Y_predict, axis=1)\n",
    "\n",
    "matrix = confusion_matrix(Y_test.values, Y_predict)\n",
    "report = classification_report(Y_test.values, Y_predict,digits = 6)\n",
    "print(matrix);print(report)"
   ]
  },
  {
   "cell_type": "markdown",
   "metadata": {},
   "source": [
    "Similar problem as before, that the algorothm tends to overlook infrequent class and classify everything to positive to maximise accuracy. Usual solution to imbalance dataset is to assign more weights to the infrequent class, but for this dataset it doesn't work either as the following shows ([Why?](http://203.170.84.89/~idawis33/DataScienceLab/publication/IJCNN15.wang.final.pdf?fbclid=IwAR3_PqZsqLpP9psST0KugZOACrrfpugw6oVHY5_Uc_m50v4ei4zrXE4ddU4)). More advanced unsupervised models might provide a solution to it as we move on to later workshops.  "
   ]
  },
  {
   "cell_type": "code",
   "execution_count": 24,
   "metadata": {},
   "outputs": [
    {
     "name": "stdout",
     "output_type": "stream",
     "text": [
      "Train on 425188 samples, validate on 47244 samples\n",
      "Epoch 1/20\n",
      " - 48s - loss: 2.3468 - acc: 0.7945 - val_loss: 1.4800 - val_acc: 0.0350\n",
      "Epoch 2/20\n",
      " - 47s - loss: 1.4744 - acc: 0.3942 - val_loss: 1.4173 - val_acc: 0.9650\n",
      "Epoch 3/20\n",
      " - 46s - loss: 1.4440 - acc: 0.3914 - val_loss: 1.5577 - val_acc: 0.9650\n",
      "Epoch 4/20\n",
      " - 46s - loss: 1.4548 - acc: 0.3835 - val_loss: 1.4295 - val_acc: 0.0350\n",
      "Epoch 5/20\n",
      " - 48s - loss: 1.4183 - acc: 0.4301 - val_loss: 1.4367 - val_acc: 0.0350\n",
      "Epoch 6/20\n",
      " - 47s - loss: 1.3979 - acc: 0.4099 - val_loss: 1.4289 - val_acc: 0.9650\n"
     ]
    }
   ],
   "source": [
    "# definin the model\n",
    "input_layer = Input(shape=(X_train.shape[1],))\n",
    "hidden_layer_1 = Dense(256, activation='relu',activity_regularizer=regularizers.l1(10e-3))(input_layer)\n",
    "hidden_layer_2 = Dense(128, activation='relu')(hidden_layer_1)\n",
    "hidden_layer_3 = Dense(128, activation='relu')(hidden_layer_2)\n",
    "hidden_layer_4 = Dense(64, activation='relu')(hidden_layer_3)\n",
    "hidden_layer_5 = Dense(32, activation='relu')(hidden_layer_4)\n",
    "output_layer = Dense(1, activation='sigmoid')(hidden_layer_5)\n",
    "w_model = Model(inputs=input_layer, outputs=output_layer)\n",
    "\n",
    "w_model.compile(loss='binary_crossentropy',\n",
    "              optimizer=tf.train.AdamOptimizer(10e-3),\n",
    "              metrics=['accuracy'])\n",
    "\n",
    "\n",
    "class_weight = {0: 1., 1: 28.} # class \"0\" is roughly 28 times more represented than calss \"1\"\n",
    "# training model with customised weights\n",
    "history_w = w_model.fit(X_train_norm, Y_train,\n",
    "                    batch_size=64,\n",
    "                    epochs=20,\n",
    "                    validation_split=0.1, \n",
    "                    verbose=2,\n",
    "                    callbacks=[callback],\n",
    "                    class_weight=class_weight)"
   ]
  },
  {
   "cell_type": "code",
   "execution_count": 25,
   "metadata": {},
   "outputs": [
    {
     "name": "stdout",
     "output_type": "stream",
     "text": [
      "Test loss: 0.7418078060041462\n",
      "Test accuracy: 0.964828800762665\n",
      "[[113954      0]\n",
      " [  4154      0]]\n",
      "             precision    recall  f1-score   support\n",
      "\n",
      "          0   0.964829  1.000000  0.982100    113954\n",
      "          1   0.000000  0.000000  0.000000      4154\n",
      "\n",
      "avg / total   0.930895  0.964829  0.947558    118108\n",
      "\n"
     ]
    },
    {
     "name": "stderr",
     "output_type": "stream",
     "text": [
      "/home/leung0222/anaconda3/lib/python3.5/site-packages/sklearn/metrics/classification.py:1135: UndefinedMetricWarning: Precision and F-score are ill-defined and being set to 0.0 in labels with no predicted samples.\n",
      "  'precision', 'predicted', average, warn_for)\n"
     ]
    }
   ],
   "source": [
    "# test error\n",
    "test_scores = w_model.evaluate(X_test_norm, Y_test, verbose=0)\n",
    "print('Test loss:', test_scores[0])\n",
    "print('Test accuracy:', test_scores[1])\n",
    "\n",
    "\n",
    "from sklearn.metrics import classification_report, confusion_matrix\n",
    "Y_predict = nn_model.predict(X_test_norm)\n",
    "Y_predict = np.argmax(Y_predict, axis=1)\n",
    "\n",
    "matrix = confusion_matrix(Y_test.values, Y_predict)\n",
    "report = classification_report(Y_test.values, Y_predict,digits = 6)\n",
    "print(matrix);print(report)"
   ]
  },
  {
   "cell_type": "code",
   "execution_count": 70,
   "metadata": {},
   "outputs": [
    {
     "data": {
      "image/png": "[encoded data removed]",
      "text/plain": [
       "<Figure size 432x288 with 1 Axes>"
      ]
     },
     "metadata": {},
     "output_type": "display_data"
    }
   ],
   "source": [
    "plt.plot(history_w.history['loss'])\n",
    "plt.plot(history_w.history['val_loss'])\n",
    "plt.ylabel('loss')\n",
    "plt.xlabel('epoch')\n",
    "plt.legend(['training', 'validation'], loc='best')\n",
    "plt.show()"
   ]
  },
  {
   "cell_type": "code",
   "execution_count": null,
   "metadata": {},
   "outputs": [],
   "source": [
    "from keras.models import load_model, save_model\n",
    "nn_model.save('nn_model.h5') #save_format='h5'\n",
    "nn_model = tf.keras.models.load_model('nn_model.h5')"
   ]
  }
 ],
 "metadata": {
  "kernelspec": {
   "display_name": "mlsa",
   "language": "python",
   "name": "mlsa"
  },
  "language_info": {
   "codemirror_mode": {
    "name": "ipython",
    "version": 3
   },
   "file_extension": ".py",
   "mimetype": "text/x-python",
   "name": "python",
   "nbconvert_exporter": "python",
   "pygments_lexer": "ipython3",
   "version": "3.7.4"
  }
 },
 "nbformat": 4,
 "nbformat_minor": 2
}
