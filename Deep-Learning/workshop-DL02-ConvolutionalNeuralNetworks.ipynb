{
 "cells": [
  {
   "cell_type": "markdown",
   "metadata": {},
   "source": [
    "# Workshop DL02: Convolutional Neural Networks*\n",
    "\n",
    "## Agenda:\n",
    "- Introduction to CNN   \n",
    "- Apply CNN to MNIST dataset\n",
    "\n",
    "Last week we have covered how to calssfy the MNIST digits using DNN and achieved roughly 95% accuracy. This weel we will try CNN and will achieve 99% accuracy! \n",
    "\n",
    "\n",
    "## Exercies:\n",
    "- something\n",
    "\n",
    "*We recommand running this notebook on colab, gcloud or other cloud instance to avoid over-heating you computer."
   ]
  },
  {
   "cell_type": "markdown",
   "metadata": {},
   "source": [
    "### CNN structure:\n",
    "\n",
    "something\n",
    "\n",
    "\n",
    "\n"
   ]
  },
  {
   "cell_type": "markdown",
   "metadata": {},
   "source": [
    "#### step 1: preparing the data\n",
    "The ways we prepare the data for DNN and CNN are different due to the difference in structure. \n",
    "\n",
    "\n"
   ]
  },
  {
   "cell_type": "code",
   "execution_count": null,
   "metadata": {},
   "outputs": [],
   "source": []
  }
 ],
 "metadata": {
  "kernelspec": {
   "display_name": "mlsa",
   "language": "python",
   "name": "mlsa"
  },
  "language_info": {
   "codemirror_mode": {
    "name": "ipython",
    "version": 3
   },
   "file_extension": ".py",
   "mimetype": "text/x-python",
   "name": "python",
   "nbconvert_exporter": "python",
   "pygments_lexer": "ipython3",
   "version": "3.7.4"
  }
 },
 "nbformat": 4,
 "nbformat_minor": 2
}
