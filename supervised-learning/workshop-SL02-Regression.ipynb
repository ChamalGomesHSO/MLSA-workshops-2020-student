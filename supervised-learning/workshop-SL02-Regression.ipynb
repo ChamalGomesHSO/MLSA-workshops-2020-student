{
 "cells": [
  {
   "cell_type": "markdown",
   "metadata": {},
   "source": [
    "# Workshop SL02: Regression\n",
    "\n",
    "## Agenda\n",
    "- Common regression models\n",
    "\n",
    "## Previously on the last workshops\n",
    "From the last workshops we have covered: \n",
    "- Prepping data \n",
    "- Classification models\n",
    "\n",
    "For this workshop we are gonna work with a new dataset (download it here) and try out different regression models.\n",
    "\n",
    "## Exercise\n",
    "- read data into dataframe\n",
    "- prep the data for training \n",
    "- try out different regression model"
   ]
  },
  {
   "cell_type": "markdown",
   "metadata": {},
   "source": [
    "### Prep work"
   ]
  },
  {
   "cell_type": "code",
   "execution_count": 1,
   "metadata": {},
   "outputs": [],
   "source": [
    "# read data"
   ]
  },
  {
   "cell_type": "markdown",
   "metadata": {},
   "source": [
    "### Model Training\n",
    "List of regression models:\n",
    "- Generalized Linear Models \n",
    "- Kernel Ridge Regression\n",
    "- Support Vector Machines \n",
    "- Stochastic Gradient Descent \n",
    "- Nearest Neighbors\n",
    "- Gaussian Processes\n",
    "- Naive Bayes\n",
    "- Trees\n",
    "- Ensemble Methods \n",
    "\n",
    "Apart from single output regression, there is a more difficult regression problem when we need to return multiple outputs. Then we can use `MultiOutputRegressor` with any regressor. More details [here](https://scikit-learn.org/stable/modules/multiclass.html#multioutput-regression).\n"
   ]
  },
  {
   "cell_type": "markdown",
   "metadata": {},
   "source": [
    "#### !) GLM"
   ]
  },
  {
   "cell_type": "code",
   "execution_count": null,
   "metadata": {},
   "outputs": [],
   "source": []
  }
 ],
 "metadata": {
  "kernelspec": {
   "display_name": "Python 3",
   "language": "python",
   "name": "python3"
  },
  "language_info": {
   "codemirror_mode": {
    "name": "ipython",
    "version": 3
   },
   "file_extension": ".py",
   "mimetype": "text/x-python",
   "name": "python",
   "nbconvert_exporter": "python",
   "pygments_lexer": "ipython3",
   "version": "3.7.3"
  }
 },
 "nbformat": 4,
 "nbformat_minor": 2
}
